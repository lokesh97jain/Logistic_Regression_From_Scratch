{
 "cells": [
  {
   "cell_type": "code",
   "execution_count": 52,
   "id": "7d176f41",
   "metadata": {},
   "outputs": [],
   "source": [
    "# Importing the Library\n",
    "import numpy as np\n",
    "import pandas as pd\n",
    "import random\n",
    "import pickle \n"
   ]
  },
  {
   "cell_type": "code",
   "execution_count": 53,
   "id": "3024da50",
   "metadata": {},
   "outputs": [],
   "source": [
    "# Creating Class for Logistic Regression \n",
    "class LogitRegression:\n",
    "    \n",
    "    def __init__(self, learning_rate, iterations):\n",
    "        self.learning_rate = learning_rate\n",
    "        self.iterations = iterations\n",
    "        self.loss = list()\n",
    "        \n",
    "    def sigmoid(self, z):\n",
    "        return 1 / (1 + np.exp(-z))\n",
    "    \n",
    "    def cost(self, X, y, weights):\n",
    "        z = np.dot(X, weights)\n",
    "        h = self.sigmoid(z)\n",
    "        cost = (-y * np.log(h) - (1 - y) * np.log(1 - h)).mean()\n",
    "        return cost\n",
    "    \n",
    "    def gradient_descent(self, X, y, weights):\n",
    "        z = np.dot(X, weights)\n",
    "        h = self.sigmoid(z)\n",
    "        gradient = np.dot(X.T, (h - y)) / y.size\n",
    "        weights = weights - (self.learning_rate * gradient)\n",
    "        return weights\n",
    "    \n",
    "    def fit(self, X, y):\n",
    "        self.weights = np.random.uniform(0, 1, X.shape[1])\n",
    "#         print(type(self.weights))\n",
    "        self.loss = []\n",
    "        for i in range(self.iterations):\n",
    "            self.weights = self.gradient_descent(X, y, self.weights)\n",
    "            self.loss.append(self.cost(X, y, self.weights))\n",
    "#         print('Final loss:', self.loss)\n",
    "        \n",
    "        \n",
    "    def predict(self, X):\n",
    "        z = np.dot(X, self.weights)\n",
    "        sig = self.sigmoid(z)\n",
    "        pred = np.where(sig >= 0.5, 1, 0)\n",
    "#         print(type(pred))\n",
    "        return pred\n",
    "    \n"
   ]
  },
  {
   "cell_type": "code",
   "execution_count": 54,
   "id": "20443689",
   "metadata": {},
   "outputs": [
    {
     "name": "stdout",
     "output_type": "stream",
     "text": [
      "2408\n",
      "2338\n"
     ]
    }
   ],
   "source": [
    "# Read the data from CSV file \n",
    "df_penguins = pd.read_csv(\"penguins_size.csv\")\n",
    "print(df_penguins.size)\n",
    "# drop missing data\n",
    "df_penguins = df_penguins.dropna()\n",
    "print(df_penguins.size)"
   ]
  },
  {
   "cell_type": "code",
   "execution_count": 55,
   "id": "72fd93e1",
   "metadata": {},
   "outputs": [
    {
     "name": "stdout",
     "output_type": "stream",
     "text": [
      "     species  island  culmen_length_mm  culmen_depth_mm  flipper_length_mm  \\\n",
      "0          0       2              39.1             18.7              181.0   \n",
      "1          0       2              39.5             17.4              186.0   \n",
      "2          0       2              40.3             18.0              195.0   \n",
      "4          0       2              36.7             19.3              193.0   \n",
      "5          0       2              39.3             20.6              190.0   \n",
      "..       ...     ...               ...              ...                ...   \n",
      "338        2       0              47.2             13.7              214.0   \n",
      "340        2       0              46.8             14.3              215.0   \n",
      "341        2       0              50.4             15.7              222.0   \n",
      "342        2       0              45.2             14.8              212.0   \n",
      "343        2       0              49.9             16.1              213.0   \n",
      "\n",
      "     body_mass_g  sex  \n",
      "0         3750.0  0.0  \n",
      "1         3800.0  1.0  \n",
      "2         3250.0  1.0  \n",
      "4         3450.0  1.0  \n",
      "5         3650.0  0.0  \n",
      "..           ...  ...  \n",
      "338       4925.0  1.0  \n",
      "340       4850.0  1.0  \n",
      "341       5750.0  0.0  \n",
      "342       5200.0  1.0  \n",
      "343       5400.0  0.0  \n",
      "\n",
      "[333 rows x 7 columns]\n",
      "<bound method DataFrame.info of      species  island  culmen_length_mm  culmen_depth_mm  flipper_length_mm  \\\n",
      "0          0       2              39.1             18.7              181.0   \n",
      "1          0       2              39.5             17.4              186.0   \n",
      "2          0       2              40.3             18.0              195.0   \n",
      "4          0       2              36.7             19.3              193.0   \n",
      "5          0       2              39.3             20.6              190.0   \n",
      "..       ...     ...               ...              ...                ...   \n",
      "338        2       0              47.2             13.7              214.0   \n",
      "340        2       0              46.8             14.3              215.0   \n",
      "341        2       0              50.4             15.7              222.0   \n",
      "342        2       0              45.2             14.8              212.0   \n",
      "343        2       0              49.9             16.1              213.0   \n",
      "\n",
      "     body_mass_g  sex  \n",
      "0         3750.0  0.0  \n",
      "1         3800.0  1.0  \n",
      "2         3250.0  1.0  \n",
      "4         3450.0  1.0  \n",
      "5         3650.0  0.0  \n",
      "..           ...  ...  \n",
      "338       4925.0  1.0  \n",
      "340       4850.0  1.0  \n",
      "341       5750.0  0.0  \n",
      "342       5200.0  1.0  \n",
      "343       5400.0  0.0  \n",
      "\n",
      "[333 rows x 7 columns]>\n",
      "2331\n"
     ]
    }
   ],
   "source": [
    "# Categorial Data\n",
    "df_penguins['sex'] = df_penguins['sex'].map({'MALE': 0, 'FEMALE': 1})\n",
    "df_penguins = df_penguins[df_penguins['sex'].notnull()]\n",
    "df_penguins['species'] = pd.Categorical(df_penguins['species']).codes\n",
    "df_penguins['island'] = pd.Categorical(df_penguins['island']).codes\n",
    "\n",
    "print(df_penguins)\n",
    "print(df_penguins.info)\n",
    "print(df_penguins.size)"
   ]
  },
  {
   "cell_type": "code",
   "execution_count": 56,
   "id": "b02d5c13",
   "metadata": {},
   "outputs": [],
   "source": [
    "# Finding min max of non categorial data\n",
    "min_body_mass = df_penguins[\"body_mass_g\"].min()\n",
    "max_body_mass = df_penguins[\"body_mass_g\"].max()\n",
    "min_culmen_length = df_penguins[\"culmen_length_mm\"].min()\n",
    "max_culmen_length = df_penguins[\"culmen_length_mm\"].max()\n",
    "min_culmen_depth = df_penguins[\"culmen_depth_mm\"].min()\n",
    "max_culmen_depth = df_penguins[\"culmen_depth_mm\"].max()\n",
    "min_flipper_length = df_penguins[\"flipper_length_mm\"].min()\n",
    "max_flipper_length = df_penguins[\"flipper_length_mm\"].max()\n",
    "\n"
   ]
  },
  {
   "cell_type": "code",
   "execution_count": 57,
   "id": "a4147870",
   "metadata": {},
   "outputs": [],
   "source": [
    "# Rescale dataset columns to the range from 0 to 1\n",
    "\n",
    "df_penguins[\"culmen_length_mm\"] = (df_penguins[\"culmen_length_mm\"] - min_culmen_length) / (max_culmen_length - min_culmen_length)\n",
    "df_penguins[\"culmen_depth_mm\"] = (df_penguins[\"culmen_depth_mm\"] - min_culmen_depth) / (max_culmen_depth - min_culmen_depth)\n",
    "df_penguins[\"flipper_length_mm\"] = (df_penguins[\"flipper_length_mm\"] - min_flipper_length) / (max_flipper_length - min_flipper_length)\n",
    "df_penguins[\"body_mass_g\"] = (df_penguins[\"body_mass_g\"] - min_body_mass) / (max_body_mass - min_body_mass)\n",
    "\n",
    "# print(df_penguins[\"culmen_depth_mm\"])\n",
    "# print(df_penguins[\"culmen_length_mm\"])\n",
    "# print(df_penguins[\"flipper_length_mm\"])\n",
    "# print(df_penguins[\"body_mass_g\"])\n"
   ]
  },
  {
   "cell_type": "code",
   "execution_count": 58,
   "id": "dbeb5755",
   "metadata": {},
   "outputs": [],
   "source": [
    "# 5. a. We can use a binary classifier to predict which gender a penguin belongs\n",
    "# to (female or male). In this case, column sex can be used as Y (target) \n",
    "\n",
    "X = df_penguins.drop(['sex'], axis=1)\n",
    "y = df_penguins['sex']"
   ]
  },
  {
   "cell_type": "code",
   "execution_count": 59,
   "id": "4e462365",
   "metadata": {},
   "outputs": [
    {
     "name": "stdout",
     "output_type": "stream",
     "text": [
      "X_train: (266, 6)\n",
      "y_train: (266,)\n",
      "X_test: (67, 6)\n",
      "y_test: (67,)\n"
     ]
    }
   ],
   "source": [
    "# Dividing the dataset in training and testing\n",
    "num_train_samples = int(0.8 * X.shape[0])\n",
    "# print(num_train_samples)\n",
    "X_train = X.iloc[:num_train_samples].values\n",
    "y_train = y.iloc[:num_train_samples].values\n",
    "X_test = X.iloc[num_train_samples:].values\n",
    "y_test = y.iloc[num_train_samples:].values\n",
    "print('X_train:', X_train.shape)\n",
    "print('y_train:', y_train.shape)\n",
    "print('X_test:', X_test.shape)\n",
    "print('y_test:', y_test.shape)"
   ]
  },
  {
   "cell_type": "code",
   "execution_count": 60,
   "id": "dae60dbc",
   "metadata": {},
   "outputs": [
    {
     "name": "stdout",
     "output_type": "stream",
     "text": [
      "Accuracy: 0.8656716417910447\n"
     ]
    }
   ],
   "source": [
    "# Executing the Code \n",
    "learning_rate = 1e-3\n",
    "# learning_rate = 0.03\n",
    "\n",
    "iterations = 100000\n",
    "model = LogitRegression(learning_rate, iterations)\n",
    "model.fit(X_train, y_train)\n",
    "\n",
    "y_pred = model.predict(X_test)\n",
    "accuracy = np.mean(y_pred == y_test)\n",
    "print('Accuracy:', accuracy)\n"
   ]
  },
  {
   "cell_type": "code",
   "execution_count": 61,
   "id": "47b29e18",
   "metadata": {},
   "outputs": [
    {
     "name": "stdout",
     "output_type": "stream",
     "text": [
      "266\n",
      "Shape of X_train: (266, 6)\n",
      "Shape of y_train: (266,)\n",
      "Shape of X_test: (67, 6)\n",
      "Shape of y_test: (67,)\n"
     ]
    }
   ],
   "source": [
    "\n",
    "# 5. b. We can use a binary classifier to predict if a penguin’s location is\n",
    "# Torgersen island or not. In this case, column island can be used as Y\n",
    "# (target) \n",
    "\n",
    "X = df_penguins.drop('island', axis=1)\n",
    "y = df_penguins['island']\n",
    "\n",
    "\n",
    "# Dividing the dataset in training and testing\n",
    "num_train_samples = int(0.8 * X.shape[0])\n",
    "print(num_train_samples)\n",
    "X_train = X.iloc[:num_train_samples].values\n",
    "y_train = y.iloc[:num_train_samples].values\n",
    "X_test = X.iloc[num_train_samples:].values\n",
    "y_test = y.iloc[num_train_samples:].values\n",
    "print('Shape of X_train:', X_train.shape)\n",
    "print('Shape of y_train:', y_train.shape)\n",
    "print('Shape of X_test:', X_test.shape)\n",
    "print('Shape of y_test:', y_test.shape)\n",
    "\n",
    "# Executing the Code \n",
    "learning_rate = 1e-3\n",
    "iterations = 100000\n",
    "model = LogitRegression(learning_rate, iterations)\n",
    "model.fit(X_train, y_train)\n",
    "\n",
    "\n"
   ]
  },
  {
   "cell_type": "code",
   "execution_count": 62,
   "id": "232c6e2d",
   "metadata": {},
   "outputs": [],
   "source": [
    "results = {\n",
    "    \"accuracy\": accuracy,\n",
    "    \"loss\": model.loss,\n",
    "}\n",
    "with open(\"lokeshsu_assignment1_part1.pickle\", \"wb\") as f:\n",
    "    pickle.dump(results, f)\n",
    "    \n",
    "# with open('lokeshsu_assignment1_part1.pickle', 'rb') as f:\n",
    "#     saved_data = pickle.load(f)\n",
    "\n",
    "# View the data\n",
    "# print(saved_data)"
   ]
  },
  {
   "cell_type": "code",
   "execution_count": 63,
   "id": "8107311b",
   "metadata": {},
   "outputs": [
    {
     "data": {
      "image/png": "[encoded data removed]",
      "text/plain": [
       "<Figure size 432x288 with 1 Axes>"
      ]
     },
     "metadata": {
      "needs_background": "light"
     },
     "output_type": "display_data"
    }
   ],
   "source": [
    "import matplotlib.pyplot as plt\n",
    "import math\n",
    "\n",
    "plt.plot(model.loss)\n",
    "plt.title('Training Loss')\n",
    "plt.xlabel('Iterations')\n",
    "plt.ylabel('Loss')\n",
    "plt.show()"
   ]
  },
  {
   "cell_type": "code",
   "execution_count": null,
   "id": "dfa95699",
   "metadata": {},
   "outputs": [],
   "source": []
  },
  {
   "cell_type": "code",
   "execution_count": null,
   "id": "1aad506f",
   "metadata": {},
   "outputs": [],
   "source": []
  }
 ],
 "metadata": {
  "kernelspec": {
   "display_name": "Python 3 (ipykernel)",
   "language": "python",
   "name": "python3"
  },
  "language_info": {
   "codemirror_mode": {
    "name": "ipython",
    "version": 3
   },
   "file_extension": ".py",
   "mimetype": "text/x-python",
   "name": "python",
   "nbconvert_exporter": "python",
   "pygments_lexer": "ipython3",
   "version": "3.9.12"
  }
 },
 "nbformat": 4,
 "nbformat_minor": 5
}
